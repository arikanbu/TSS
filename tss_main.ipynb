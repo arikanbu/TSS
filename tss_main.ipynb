{
 "cells": [
  {
   "cell_type": "code",
   "execution_count": 17,
   "metadata": {},
   "outputs": [],
   "source": [
    "import numpy as np\n",
    "import pandas as pd\n",
    "\n",
    "class TimeSeriesProcessor:\n",
    "    def __init__(self):\n",
    "        self.data = None # Will be a pandas df\n",
    "\n",
    "    def _from_csv(self, csv_file):\n",
    "        try:\n",
    "            self.data = pd.read_csv(csv_file).set_index(\"Time\")\n",
    "        except Exception as e:\n",
    "            print(f\"Error reading CSV file: {e}\")\n",
    "\n",
    "    def _from_variables(self, values, time=None, channel_names=None):\n",
    "        n_samples, n_channels = values.shape\n",
    "        time = np.arange(1, n_samples + 1) if time is None else time\n",
    "        channel_names = [f\"CH-{i+1}\" for i in range(n_channels)] if channel_names is None else channel_names\n",
    "        data_dict = {\"Time\": time, **{name: values[:, i] for i, name in enumerate(channel_names)}}\n",
    "        self.data = pd.DataFrame(data_dict).set_index(\"Time\")\n",
    "        self.channel_names = channel_names"
   ]
  },
  {
   "cell_type": "code",
   "execution_count": 19,
   "metadata": {},
   "outputs": [
    {
     "ename": "TypeError",
     "evalue": "TimeSeriesProcessor.__init__() missing 1 required positional argument: 'csv_file'",
     "output_type": "error",
     "traceback": [
      "\u001b[1;31m---------------------------------------------------------------------------\u001b[0m",
      "\u001b[1;31mTypeError\u001b[0m                                 Traceback (most recent call last)",
      "Cell \u001b[1;32mIn[19], line 2\u001b[0m\n\u001b[0;32m      1\u001b[0m \u001b[38;5;66;03m#x = TimeSeriesProcessor(\"data.csv\")\u001b[39;00m\n\u001b[1;32m----> 2\u001b[0m x \u001b[38;5;241m=\u001b[39m TimeSeriesProcessor()\n\u001b[0;32m      3\u001b[0m x\u001b[38;5;241m.\u001b[39mdata\n",
      "\u001b[1;31mTypeError\u001b[0m: TimeSeriesProcessor.__init__() missing 1 required positional argument: 'csv_file'"
     ]
    }
   ],
   "source": [
    "#x = TimeSeriesProcessor(\"data.csv\")\n",
    "x = TimeSeriesProcessor()\n",
    "x.data"
   ]
  }
 ],
 "metadata": {
  "kernelspec": {
   "display_name": "base",
   "language": "python",
   "name": "python3"
  },
  "language_info": {
   "codemirror_mode": {
    "name": "ipython",
    "version": 3
   },
   "file_extension": ".py",
   "mimetype": "text/x-python",
   "name": "python",
   "nbconvert_exporter": "python",
   "pygments_lexer": "ipython3",
   "version": "3.12.4"
  }
 },
 "nbformat": 4,
 "nbformat_minor": 2
}
